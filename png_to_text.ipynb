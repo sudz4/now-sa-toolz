{
 "cells": [
  {
   "cell_type": "code",
   "execution_count": 1,
   "metadata": {},
   "outputs": [],
   "source": [
    "try:\n",
    "    from PIL import Image\n",
    "except ImportError:\n",
    "    import Image\n",
    "import pytesseract\n",
    "\n",
    "def ocr_core(filename):\n",
    "    \"\"\"\n",
    "    This function will handle the OCR processing of images\n",
    "    \"\"\"\n",
    "    text = pytesseract.image_to_string(Image.open(filename))  # We'll use Pillow's Image class to open the image and pytesseract to detect the string in the image\n",
    "    return text\n"
   ]
  },
  {
   "cell_type": "code",
   "execution_count": 4,
   "metadata": {},
   "outputs": [
    {
     "name": "stdout",
     "output_type": "stream",
     "text": [
      "Without any data integrations, an organizations data will typically be provided in Excel or CSV file\n",
      "formats. Organizations rarely provide clean data, but it should always be encouraged. If clean data is\n",
      "not provided, you may need to reserve several days in your project plan to work with the customer\n",
      "stakeholders to find or define and cleanse the data. Getting the data into ServiceNow is simple, but\n",
      "getting and keeping the data clean and usable is not always easy. Depending on the circumstances,\n",
      "one data cleansing option may be more appropriate than the other. Always attempt to resolve\n",
      "issues with a no code and/or low code approach first.\n",
      "\n",
      "When importing data:\n",
      "\n",
      "¥ Perform a data cleanup before it is imported into ServiceNow\n",
      "\n",
      "¥ More data cleanup may be required during the transformation process\n",
      "Y Use coalesce fields in your transform maps for importing data later\n",
      "\n",
      "Note: Field normalization is activated as a separate plugin. If you are new to field normalization,\n",
      "consider using the guided setup module to get started.\n",
      "\n"
     ]
    }
   ],
   "source": [
    "\"\"\"\n",
    "use the function to convert the screenshot text image to text string.\n",
    "copy and paste later into your notes -> this is th designed outcome of the program.\n",
    "it is a workaround to webpage copy and paste limitations.\n",
    "\"\"\"\n",
    "converted_text = ocr_core('raw_screenshot_data/ss_fsm_data_import.png')\n",
    "print(converted_text)"
   ]
  }
 ],
 "metadata": {
  "kernelspec": {
   "display_name": "nst_venv",
   "language": "python",
   "name": "python3"
  },
  "language_info": {
   "codemirror_mode": {
    "name": "ipython",
    "version": 3
   },
   "file_extension": ".py",
   "mimetype": "text/x-python",
   "name": "python",
   "nbconvert_exporter": "python",
   "pygments_lexer": "ipython3",
   "version": "3.11.1"
  },
  "orig_nbformat": 4
 },
 "nbformat": 4,
 "nbformat_minor": 2
}
