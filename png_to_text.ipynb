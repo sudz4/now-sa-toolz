{
 "cells": [
  {
   "cell_type": "code",
   "execution_count": 1,
   "metadata": {},
   "outputs": [],
   "source": [
    "try:\n",
    "    from PIL import Image\n",
    "except ImportError:\n",
    "    import Image\n",
    "import pytesseract\n",
    "\n",
    "def ocr_core(filename):\n",
    "    \"\"\"\n",
    "    This function will handle the OCR processing of images\n",
    "    \"\"\"\n",
    "    text = pytesseract.image_to_string(Image.open(filename))  # We'll use Pillow's Image class to open the image and pytesseract to detect the string in the image\n",
    "    return text\n"
   ]
  },
  {
   "cell_type": "code",
   "execution_count": 5,
   "metadata": {},
   "outputs": [
    {
     "name": "stdout",
     "output_type": "stream",
     "text": [
      "Location, group, and user records contain essential attributes used by many field service\n",
      "management functions: geolocation, maps, route optimization, part sourcing and transfer,\n",
      "scheduling and dispatch, and more. Set these foundational records up carefully. Locations can be\n",
      "work locations, offices, warehouses, or stockrooms and are vital to all field service management\n",
      "features. Locations should be managed in hierarchy and are used to assign work to group(s) covering\n",
      "territories. Each location must have a latitude and longitude value, as this is what geolocation\n",
      "depends on. When a maps integration is configured, latitude and longitude are automatically\n",
      "populated for new or updated locations based on the get_lat_long business rule and script include.\n",
      "Enable geolocation tracking for individual field agents in the user record. Also, when geolocation is\n",
      "enabled, the default location for the user is set based on the coordinates of the user at first log in.\n",
      "\n",
      "The best approach is to:\n",
      "1. Create locations in a hierarchy. All locations are attached to a parent location. Top-level locations\n",
      "do not have a parent location.\n",
      "\n",
      "2. Create the different types of groups.\n",
      "3. Associate locations to the groups (leverage parent locations).\n",
      "4. Associate users to groups.\n",
      "\n"
     ]
    }
   ],
   "source": [
    "\"\"\"\n",
    "use the function to convert the screenshot text image to text string.\n",
    "copy and paste later into your notes -> this is th designed outcome of the program.\n",
    "it is a workaround to webpage copy and paste limitations.\n",
    "\"\"\"\n",
    "converted_text = ocr_core('raw_screenshot_data/ss_fsm_location_group_user.png') # IMPORTANT: first update screenshot filename, then change the 'string' path to screenshot file\n",
    "print(converted_text)"
   ]
  }
 ],
 "metadata": {
  "kernelspec": {
   "display_name": "nst_venv",
   "language": "python",
   "name": "python3"
  },
  "language_info": {
   "codemirror_mode": {
    "name": "ipython",
    "version": 3
   },
   "file_extension": ".py",
   "mimetype": "text/x-python",
   "name": "python",
   "nbconvert_exporter": "python",
   "pygments_lexer": "ipython3",
   "version": "3.11.1"
  },
  "orig_nbformat": 4
 },
 "nbformat": 4,
 "nbformat_minor": 2
}
