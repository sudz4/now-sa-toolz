{
 "cells": [
  {
   "cell_type": "code",
   "execution_count": 5,
   "metadata": {},
   "outputs": [
    {
     "name": "stdout",
     "output_type": "stream",
     "text": [
      "Problem [problem] table stores problem records.\n",
      "Problem extends the Task [task] table.\n",
      "\n",
      "Problem Task [problem_task] is a related table which also extends Task, and can be found on\n",
      "the form as a related list.\n",
      "\n",
      "Related tables include Incident and Change, which can be related to a problem.\n",
      "5. Reference foundation data tables.\n",
      "\n",
      "Note: This image serves as an example only and does not include all of the referenced / referencing\n",
      "or all of the extended tables. To review the full data structure, navigate to System Definition >\n",
      "Tables and open the Problem table record. Under related links, click on Show Schema Map.\n",
      "\n"
     ]
    }
   ],
   "source": [
    "try:\n",
    "    from PIL import Image\n",
    "except ImportError:\n",
    "    import Image\n",
    "import pytesseract\n",
    "\n",
    "def ocr_core(filename):\n",
    "    \"\"\"\n",
    "    This function will handle the OCR processing of images\n",
    "    \"\"\"\n",
    "    text = pytesseract.image_to_string(Image.open(filename))  # We'll use Pillow's Image class to open the image and pytesseract to detect the string in the image\n",
    "    return text\n",
    "\n",
    "product_area = 'problem'\n",
    "print(ocr_core(f'{product_area}_table_schema.png'))\n"
   ]
  }
 ],
 "metadata": {
  "kernelspec": {
   "display_name": "nst_venv",
   "language": "python",
   "name": "python3"
  },
  "language_info": {
   "codemirror_mode": {
    "name": "ipython",
    "version": 3
   },
   "file_extension": ".py",
   "mimetype": "text/x-python",
   "name": "python",
   "nbconvert_exporter": "python",
   "pygments_lexer": "ipython3",
   "version": "3.11.1"
  },
  "orig_nbformat": 4
 },
 "nbformat": 4,
 "nbformat_minor": 2
}
