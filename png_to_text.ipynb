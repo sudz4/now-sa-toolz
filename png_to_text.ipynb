{
 "cells": [
  {
   "cell_type": "code",
   "execution_count": 4,
   "metadata": {},
   "outputs": [
    {
     "name": "stdout",
     "output_type": "stream",
     "text": [
      "Problem Management architecture — Data structures\n",
      "Table > Show Schema Map © sare 7\n",
      "\n",
      "ice\n",
      "(emdb_ci_service)\n",
      "—\n",
      "\n",
      "+ Columns\n",
      "+ Configuration Item Columns\n",
      "\n",
      "+ Base Configuration Item Columns\n",
      "Ss\n",
      "{core_company)\n",
      "S task +\n",
      "(task) Columns\n",
      "ae\n",
      "S incident + + Columns\n",
      "(incident) @ (emn_location)\n",
      "— —s\n",
      "Columns Columns\n",
      "‘Task Columns\n",
      ". Configuration item 2\n",
      "S Change Request (prebion (ema _\n",
      "ae \"ST | —\n",
      "— + Columns Columns\n",
      "jumns + Task Columns @ Base Configuration Item Columns\n",
      "Task Columns\n",
      "Ss\n",
      "(sys_user)\n",
      "S Problem Task +\n",
      "(probiem.foal) Columns\n",
      "—\n",
      "Columns S contract +\n",
      "+ Task Columns ® {ast_contract)\n",
      "—\n",
      "\n",
      "+\n",
      "\n",
      "+ Configuration Item Columns\n",
      "\n",
      "servicenow. +.Base Configuration Item Columns\n",
      "\n"
     ]
    }
   ],
   "source": [
    "try:\n",
    "    from PIL import Image\n",
    "except ImportError:\n",
    "    import Image\n",
    "import pytesseract\n",
    "\n",
    "def ocr_core(filename):\n",
    "    \"\"\"\n",
    "    This function will handle the OCR processing of images\n",
    "    \"\"\"\n",
    "    text = pytesseract.image_to_string(Image.open(filename))  # We'll use Pillow's Image class to open the image and pytesseract to detect the string in the image\n",
    "    return text\n",
    "\n",
    "product_area = 'problem'\n",
    "print(ocr_core(f'{product_area}_table_schema.png'))\n"
   ]
  }
 ],
 "metadata": {
  "kernelspec": {
   "display_name": "nst_venv",
   "language": "python",
   "name": "python3"
  },
  "language_info": {
   "codemirror_mode": {
    "name": "ipython",
    "version": 3
   },
   "file_extension": ".py",
   "mimetype": "text/x-python",
   "name": "python",
   "nbconvert_exporter": "python",
   "pygments_lexer": "ipython3",
   "version": "3.11.1"
  },
  "orig_nbformat": 4
 },
 "nbformat": 4,
 "nbformat_minor": 2
}
