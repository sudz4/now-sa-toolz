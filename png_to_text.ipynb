{
 "cells": [
  {
   "cell_type": "code",
   "execution_count": 1,
   "metadata": {},
   "outputs": [
    {
     "ename": "FileNotFoundError",
     "evalue": "[Errno 2] No such file or directory: 'sc_request_table_schema.png'",
     "output_type": "error",
     "traceback": [
      "\u001b[0;31m---------------------------------------------------------------------------\u001b[0m",
      "\u001b[0;31mFileNotFoundError\u001b[0m                         Traceback (most recent call last)",
      "\u001b[1;32m/Users/sudz4/Desktop/sidewayzSnowDEV/now-sa-toolz/png_to_text.ipynb Cell 1\u001b[0m line \u001b[0;36m1\n\u001b[1;32m     <a href='vscode-notebook-cell:/Users/sudz4/Desktop/sidewayzSnowDEV/now-sa-toolz/png_to_text.ipynb#W0sZmlsZQ%3D%3D?line=11'>12</a>\u001b[0m     \u001b[39mreturn\u001b[39;00m text\n\u001b[1;32m     <a href='vscode-notebook-cell:/Users/sudz4/Desktop/sidewayzSnowDEV/now-sa-toolz/png_to_text.ipynb#W0sZmlsZQ%3D%3D?line=13'>14</a>\u001b[0m product_area \u001b[39m=\u001b[39m \u001b[39m'\u001b[39m\u001b[39msc_request\u001b[39m\u001b[39m'\u001b[39m\n\u001b[0;32m---> <a href='vscode-notebook-cell:/Users/sudz4/Desktop/sidewayzSnowDEV/now-sa-toolz/png_to_text.ipynb#W0sZmlsZQ%3D%3D?line=14'>15</a>\u001b[0m \u001b[39mprint\u001b[39m(ocr_core(\u001b[39mf\u001b[39;49m\u001b[39m'\u001b[39;49m\u001b[39m{\u001b[39;49;00mproduct_area\u001b[39m}\u001b[39;49;00m\u001b[39m_table_schema.png\u001b[39;49m\u001b[39m'\u001b[39;49m))\n",
      "\u001b[1;32m/Users/sudz4/Desktop/sidewayzSnowDEV/now-sa-toolz/png_to_text.ipynb Cell 1\u001b[0m line \u001b[0;36m1\n\u001b[1;32m      <a href='vscode-notebook-cell:/Users/sudz4/Desktop/sidewayzSnowDEV/now-sa-toolz/png_to_text.ipynb#W0sZmlsZQ%3D%3D?line=6'>7</a>\u001b[0m \u001b[39mdef\u001b[39;00m \u001b[39mocr_core\u001b[39m(filename):\n\u001b[1;32m      <a href='vscode-notebook-cell:/Users/sudz4/Desktop/sidewayzSnowDEV/now-sa-toolz/png_to_text.ipynb#W0sZmlsZQ%3D%3D?line=7'>8</a>\u001b[0m \u001b[39m    \u001b[39m\u001b[39m\"\"\"\u001b[39;00m\n\u001b[1;32m      <a href='vscode-notebook-cell:/Users/sudz4/Desktop/sidewayzSnowDEV/now-sa-toolz/png_to_text.ipynb#W0sZmlsZQ%3D%3D?line=8'>9</a>\u001b[0m \u001b[39m    This function will handle the OCR processing of images\u001b[39;00m\n\u001b[1;32m     <a href='vscode-notebook-cell:/Users/sudz4/Desktop/sidewayzSnowDEV/now-sa-toolz/png_to_text.ipynb#W0sZmlsZQ%3D%3D?line=9'>10</a>\u001b[0m \u001b[39m    \"\"\"\u001b[39;00m\n\u001b[0;32m---> <a href='vscode-notebook-cell:/Users/sudz4/Desktop/sidewayzSnowDEV/now-sa-toolz/png_to_text.ipynb#W0sZmlsZQ%3D%3D?line=10'>11</a>\u001b[0m     text \u001b[39m=\u001b[39m pytesseract\u001b[39m.\u001b[39mimage_to_string(Image\u001b[39m.\u001b[39;49mopen(filename))  \u001b[39m# We'll use Pillow's Image class to open the image and pytesseract to detect the string in the image\u001b[39;00m\n\u001b[1;32m     <a href='vscode-notebook-cell:/Users/sudz4/Desktop/sidewayzSnowDEV/now-sa-toolz/png_to_text.ipynb#W0sZmlsZQ%3D%3D?line=11'>12</a>\u001b[0m     \u001b[39mreturn\u001b[39;00m text\n",
      "File \u001b[0;32m~/Desktop/sidewayzSnowDEV/now-sa-toolz/nsat_venv/lib/python3.11/site-packages/PIL/Image.py:3243\u001b[0m, in \u001b[0;36mopen\u001b[0;34m(fp, mode, formats)\u001b[0m\n\u001b[1;32m   3240\u001b[0m     filename \u001b[39m=\u001b[39m fp\n\u001b[1;32m   3242\u001b[0m \u001b[39mif\u001b[39;00m filename:\n\u001b[0;32m-> 3243\u001b[0m     fp \u001b[39m=\u001b[39m builtins\u001b[39m.\u001b[39;49mopen(filename, \u001b[39m\"\u001b[39;49m\u001b[39mrb\u001b[39;49m\u001b[39m\"\u001b[39;49m)\n\u001b[1;32m   3244\u001b[0m     exclusive_fp \u001b[39m=\u001b[39m \u001b[39mTrue\u001b[39;00m\n\u001b[1;32m   3246\u001b[0m \u001b[39mtry\u001b[39;00m:\n",
      "\u001b[0;31mFileNotFoundError\u001b[0m: [Errno 2] No such file or directory: 'sc_request_table_schema.png'"
     ]
    }
   ],
   "source": [
    "try:\n",
    "    from PIL import Image\n",
    "except ImportError:\n",
    "    import Image\n",
    "import pytesseract\n",
    "\n",
    "def ocr_core(filename):\n",
    "    \"\"\"\n",
    "    This function will handle the OCR processing of images\n",
    "    \"\"\"\n",
    "    text = pytesseract.image_to_string(Image.open(filename))  # We'll use Pillow's Image class to open the image and pytesseract to detect the string in the image\n",
    "    return text\n"
   ]
  }
 ],
 "metadata": {
  "kernelspec": {
   "display_name": "nst_venv",
   "language": "python",
   "name": "python3"
  },
  "language_info": {
   "codemirror_mode": {
    "name": "ipython",
    "version": 3
   },
   "file_extension": ".py",
   "mimetype": "text/x-python",
   "name": "python",
   "nbconvert_exporter": "python",
   "pygments_lexer": "ipython3",
   "version": "3.11.1"
  },
  "orig_nbformat": 4
 },
 "nbformat": 4,
 "nbformat_minor": 2
}
