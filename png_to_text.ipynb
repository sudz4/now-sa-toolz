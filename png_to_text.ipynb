{
 "cells": [
  {
   "cell_type": "code",
   "execution_count": 4,
   "metadata": {},
   "outputs": [],
   "source": [
    "try:\n",
    "    from PIL import Image\n",
    "except ImportError:\n",
    "    import Image\n",
    "import pytesseract\n",
    "\n",
    "def ocr_core(filename):\n",
    "    \"\"\"\n",
    "    This function will handle the OCR processing of images\n",
    "    \"\"\"\n",
    "    text = pytesseract.image_to_string(Image.open(filename))  # We'll use Pillow's Image class to open the image and pytesseract to detect the string in the image\n",
    "    return text\n"
   ]
  },
  {
   "cell_type": "code",
   "execution_count": 7,
   "metadata": {},
   "outputs": [
    {
     "name": "stdout",
     "output_type": "stream",
     "text": [
      "Product models serve as the basis for creating different types of assets. Assets can be in-use at a customer or\n",
      "internal site or in-stock in a stockroom. Field service management looks at current inventories to ensure\n",
      "availability and appropriate assignment of tasks. Product models are specific versions or configurations of an\n",
      "asset used for managing and tracking assets. A product model can be in one or more model categories.\n",
      "Model categories are used to associate CI classes with Asset classes. When defining the parts required to\n",
      "complete a specific task, the user will be prompted to select from the list of available product models. When\n",
      "creating a new work order, the asset for which the work is for can be defined. Completing the Asset field\n",
      "auto populates the Affected Cl field, the primary configuration item on which the work should apply. In your\n",
      "class instance, assets and consumables are already defined for you, but you should be aware there are key\n",
      "attributes and dependencies for creating assets and consumables.\n",
      "\n",
      "* Manufacturers are referenced in product model records.\n",
      "\n",
      "+ Product models references manufacturers and model categories.\n",
      "\n",
      "+ Product model categories are referenced in product model records and tied to Cl and asset classes.\n",
      "\n",
      "+ Ciclasses are required when creating model categories.\n",
      "\n",
      "* Assets contain asset tag and other information specific to a particular asset. Assets and Cls can be\n",
      "synchronized.\n",
      "\n",
      "+ Asset classes need to be defined correctly; ties asset class and CI class. Asset types include hardware,\n",
      "software licenses, and consumables.\n",
      "\n",
      "The above-mentioned records should be defined carefully and with input from an organization’s inventory\n",
      "and asset management administrators and subject matter experts. All of these elements facilitate successful\n",
      "tracking of configuration and usage of equipment. Note: ServiceNow Asset Management application, process,\n",
      "and related configurations are not covered in this class. A Configuration Management Database (CMDB) is\n",
      "not required for Field Service Management. You may implement only assets and have no relationships to\n",
      "configuration items.\n",
      "\n"
     ]
    }
   ],
   "source": [
    "\"\"\"\n",
    "use the function to convert the screenshot text image to text string.\n",
    "copy and paste later into your notes -> this is th designed outcome of the program.\n",
    "it is a workaround to webpage copy and paste limitations.\n",
    "\"\"\"\n",
    "converted_text = ocr_core('screenshot_fsm_assets.png')\n",
    "print(converted_text)"
   ]
  }
 ],
 "metadata": {
  "kernelspec": {
   "display_name": "nst_venv",
   "language": "python",
   "name": "python3"
  },
  "language_info": {
   "codemirror_mode": {
    "name": "ipython",
    "version": 3
   },
   "file_extension": ".py",
   "mimetype": "text/x-python",
   "name": "python",
   "nbconvert_exporter": "python",
   "pygments_lexer": "ipython3",
   "version": "3.11.1"
  },
  "orig_nbformat": 4
 },
 "nbformat": 4,
 "nbformat_minor": 2
}
